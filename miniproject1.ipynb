{
 "cells": [
  {
   "cell_type": "code",
   "execution_count": 1,
   "id": "54b3dac5",
   "metadata": {
    "_cell_guid": "b1076dfc-b9ad-4769-8c92-a6c4dae69d19",
    "_uuid": "8f2839f25d086af736a60e9eeb907d3b93b6e0e5",
    "execution": {
     "iopub.execute_input": "2024-05-01T12:20:10.861490Z",
     "iopub.status.busy": "2024-05-01T12:20:10.860707Z",
     "iopub.status.idle": "2024-05-01T12:20:27.789106Z",
     "shell.execute_reply": "2024-05-01T12:20:27.787313Z"
    },
    "papermill": {
     "duration": 16.934656,
     "end_time": "2024-05-01T12:20:27.790723",
     "exception": true,
     "start_time": "2024-05-01T12:20:10.856067",
     "status": "failed"
    },
    "tags": []
   },
   "outputs": [
    {
     "name": "stderr",
     "output_type": "stream",
     "text": [
      "2024-05-01 12:20:12.927798: E external/local_xla/xla/stream_executor/cuda/cuda_dnn.cc:9261] Unable to register cuDNN factory: Attempting to register factory for plugin cuDNN when one has already been registered\n",
      "2024-05-01 12:20:12.927933: E external/local_xla/xla/stream_executor/cuda/cuda_fft.cc:607] Unable to register cuFFT factory: Attempting to register factory for plugin cuFFT when one has already been registered\n",
      "2024-05-01 12:20:13.074877: E external/local_xla/xla/stream_executor/cuda/cuda_blas.cc:1515] Unable to register cuBLAS factory: Attempting to register factory for plugin cuBLAS when one has already been registered\n"
     ]
    },
    {
     "ename": "FileNotFoundError",
     "evalue": "[Errno 2] No such file or directory: '/kaggle/input/bombus/bombus_project'",
     "output_type": "error",
     "traceback": [
      "\u001b[0;31m---------------------------------------------------------------------------\u001b[0m",
      "\u001b[0;31mFileNotFoundError\u001b[0m                         Traceback (most recent call last)",
      "Cell \u001b[0;32mIn[1], line 44\u001b[0m\n\u001b[1;32m     41\u001b[0m     \u001b[38;5;28;01mreturn\u001b[39;00m np\u001b[38;5;241m.\u001b[39marray(images), species_labels, gender_labels\n\u001b[1;32m     43\u001b[0m \u001b[38;5;66;03m# Load and preprocess \u001b[39;00m\n\u001b[0;32m---> 44\u001b[0m images, species_labels, gender_labels \u001b[38;5;241m=\u001b[39m \u001b[43mload_images\u001b[49m\u001b[43m(\u001b[49m\u001b[43mdataset_path\u001b[49m\u001b[43m)\u001b[49m\n\u001b[1;32m     46\u001b[0m \u001b[38;5;66;03m# Encode labels\u001b[39;00m\n\u001b[1;32m     47\u001b[0m species_encoder \u001b[38;5;241m=\u001b[39m LabelEncoder()\n",
      "Cell \u001b[0;32mIn[1], line 22\u001b[0m, in \u001b[0;36mload_images\u001b[0;34m(base_path)\u001b[0m\n\u001b[1;32m     19\u001b[0m species_labels \u001b[38;5;241m=\u001b[39m []\n\u001b[1;32m     20\u001b[0m gender_labels \u001b[38;5;241m=\u001b[39m []\n\u001b[0;32m---> 22\u001b[0m \u001b[38;5;28;01mfor\u001b[39;00m folder \u001b[38;5;129;01min\u001b[39;00m \u001b[43mos\u001b[49m\u001b[38;5;241;43m.\u001b[39;49m\u001b[43mlistdir\u001b[49m\u001b[43m(\u001b[49m\u001b[43mbase_path\u001b[49m\u001b[43m)\u001b[49m:\n\u001b[1;32m     23\u001b[0m     folder_path \u001b[38;5;241m=\u001b[39m os\u001b[38;5;241m.\u001b[39mpath\u001b[38;5;241m.\u001b[39mjoin(base_path, folder)\n\u001b[1;32m     24\u001b[0m     \u001b[38;5;28;01mif\u001b[39;00m os\u001b[38;5;241m.\u001b[39mpath\u001b[38;5;241m.\u001b[39misdir(folder_path) \u001b[38;5;129;01mand\u001b[39;00m \u001b[38;5;129;01mnot\u001b[39;00m folder\u001b[38;5;241m.\u001b[39mstartswith(\u001b[38;5;124m'\u001b[39m\u001b[38;5;124m.\u001b[39m\u001b[38;5;124m'\u001b[39m):  \u001b[38;5;66;03m# Ignore hidden files/folders\u001b[39;00m\n",
      "\u001b[0;31mFileNotFoundError\u001b[0m: [Errno 2] No such file or directory: '/kaggle/input/bombus/bombus_project'"
     ]
    }
   ],
   "source": [
    "import os\n",
    "import numpy as np\n",
    "import tensorflow as tf\n",
    "from tensorflow.keras.preprocessing.image import ImageDataGenerator\n",
    "from tensorflow.keras.utils import to_categorical\n",
    "from sklearn.model_selection import train_test_split\n",
    "from sklearn.preprocessing import LabelEncoder\n",
    "from PIL import Image\n",
    "\n",
    "# The dataset path\n",
    "dataset_path = '/kaggle/input/bombus/bombus_project'\n",
    "\n",
    "# Define image size\n",
    "img_height, img_width = 224, 224\n",
    "\n",
    "# Function to load and preprocess TIFF images\n",
    "def load_images(base_path):\n",
    "    images = []\n",
    "    species_labels = []\n",
    "    gender_labels = []\n",
    "    \n",
    "    for folder in os.listdir(base_path):\n",
    "        folder_path = os.path.join(base_path, folder)\n",
    "        if os.path.isdir(folder_path) and not folder.startswith('.'):  # Ignore hidden files/folders\n",
    "            for file in os.listdir(folder_path):\n",
    "                if file.endswith('.tif') and not file.startswith('.'):\n",
    "                    img_path = os.path.join(folder_path, file)\n",
    "                    img = Image.open(img_path)\n",
    "                    img = img.resize((img_width, img_height))\n",
    "                    img = np.array(img)\n",
    "                    if img.ndim == 2:  # If the image is grayscale, convert to RGB\n",
    "                        img = np.stack((img,)*3, axis=-1)\n",
    "                    img = tf.keras.applications.resnet50.preprocess_input(img)  # Adjust preprocessing for your model\n",
    "                    \n",
    "                    images.append(img)\n",
    "                    # Assuming folder names are like 'sic_alt_male'\n",
    "                    parts = folder.split('_')\n",
    "                    species_labels.append('_'.join(parts[:-1]))  # Combine all parts except the last as species\n",
    "                    gender_labels.append(parts[-1])  # Last part is gender\n",
    "    \n",
    "    return np.array(images), species_labels, gender_labels\n",
    "\n",
    "# Load and preprocess \n",
    "images, species_labels, gender_labels = load_images(dataset_path)\n",
    "\n",
    "# Encode labels\n",
    "species_encoder = LabelEncoder()\n",
    "species_encoded = species_encoder.fit_transform(species_labels)\n",
    "species_categorical = to_categorical(species_encoded)\n",
    "\n",
    "gender_encoder = LabelEncoder()\n",
    "gender_encoded = gender_encoder.fit_transform(gender_labels)\n",
    "gender_categorical = to_categorical(gender_encoded)\n",
    "\n",
    "# Split data into train and test sets\n",
    "X_train, X_test, y_species_train, y_species_test, y_gender_train, y_gender_test = train_test_split(\n",
    "    images, species_categorical, gender_categorical, test_size=0.2, random_state=42\n",
    ")\n",
    "\n",
    "# Define two separate models for species and gender classification\n",
    "def create_model(num_classes):\n",
    "    base_model = tf.keras.applications.ResNet50(weights='imagenet', include_top=False, input_shape=(img_height, img_width, 3))\n",
    "    base_model.trainable = False  # Freeze the base model\n",
    "    model = tf.keras.Sequential([\n",
    "        base_model,\n",
    "        tf.keras.layers.GlobalAveragePooling2D(),\n",
    "        tf.keras.layers.Dense(num_classes, activation='softmax')\n",
    "    ])\n",
    "    return model\n",
    "\n",
    "# Create and compile models\n",
    "model_species = create_model(len(species_encoder.classes_))\n",
    "model_gender = create_model(len(gender_encoder.classes_))\n",
    "\n",
    "model_species.compile(optimizer='adam', loss='categorical_crossentropy', metrics=['accuracy'])\n",
    "model_gender.compile(optimizer='adam', loss='categorical_crossentropy', metrics=['accuracy'])\n",
    "\n",
    "# Train the models\n",
    "print(\"Species Model Accuracy\")\n",
    "history_species = model_species.fit(X_train, y_species_train, epochs=10, validation_data=(X_test, y_species_test))\n",
    "print(\"Gender Model Accuracy\")\n",
    "history_gender = model_gender.fit(X_train, y_gender_train, epochs=10, validation_data=(X_test, y_gender_test))\n"
   ]
  },
  {
   "cell_type": "code",
   "execution_count": null,
   "id": "3ef157dc",
   "metadata": {
    "execution": {
     "iopub.execute_input": "2024-05-01T12:06:25.761366Z",
     "iopub.status.busy": "2024-05-01T12:06:25.760675Z",
     "iopub.status.idle": "2024-05-01T12:06:26.751635Z",
     "shell.execute_reply": "2024-05-01T12:06:26.750669Z",
     "shell.execute_reply.started": "2024-05-01T12:06:25.761290Z"
    },
    "papermill": {
     "duration": null,
     "end_time": null,
     "exception": null,
     "start_time": null,
     "status": "pending"
    },
    "tags": []
   },
   "outputs": [],
   "source": [
    "import matplotlib.pyplot as plt\n",
    "\n",
    "def plot_history(history, title):\n",
    "    accuracy = history.history['accuracy']\n",
    "    val_accuracy = history.history['val_accuracy']\n",
    "    loss = history.history['loss']\n",
    "    val_loss = history.history['val_loss']\n",
    "    epochs = range(1, len(accuracy) + 1)\n",
    "\n",
    "    plt.figure(figsize=(12, 5))\n",
    "    \n",
    "    plt.subplot(1, 2, 1)\n",
    "    plt.plot(epochs, accuracy, 'bo', label='Training acc')\n",
    "    plt.plot(epochs, val_accuracy, 'b', label='Validation acc')\n",
    "    plt.title(f'{title} Training and Validation Accuracy')\n",
    "    plt.legend()\n",
    "    \n",
    "    plt.subplot(1, 2, 2)\n",
    "    plt.plot(epochs, loss, 'ro', label='Training loss')\n",
    "    plt.plot(epochs, val_loss, 'r', label='Validation loss')\n",
    "    plt.title(f'{title} Training and Validation Loss')\n",
    "    plt.legend()\n",
    "    \n",
    "    plt.show()\n",
    "\n",
    "# Plot its performance\n",
    "print(\"Plots of Species Model\")\n",
    "plot_history(history_species, \"Species Model\")\n",
    "\n",
    "# Plot its performance\n",
    "print(\"Plots of Gender Model\")\n",
    "plot_history(history_gender, \"Gender Model\")\n"
   ]
  }
 ],
 "metadata": {
  "kaggle": {
   "accelerator": "nvidiaTeslaT4",
   "dataSources": [
    {
     "datasetId": 4917178,
     "sourceId": 8280013,
     "sourceType": "datasetVersion"
    },
    {
     "datasetId": 4917501,
     "sourceId": 8280434,
     "sourceType": "datasetVersion"
    }
   ],
   "dockerImageVersionId": 30699,
   "isGpuEnabled": true,
   "isInternetEnabled": false,
   "language": "python",
   "sourceType": "notebook"
  },
  "kernelspec": {
   "display_name": "Python 3",
   "language": "python",
   "name": "python3"
  },
  "language_info": {
   "codemirror_mode": {
    "name": "ipython",
    "version": 3
   },
   "file_extension": ".py",
   "mimetype": "text/x-python",
   "name": "python",
   "nbconvert_exporter": "python",
   "pygments_lexer": "ipython3",
   "version": "3.10.13"
  },
  "papermill": {
   "default_parameters": {},
   "duration": 22.071998,
   "end_time": "2024-05-01T12:20:30.111485",
   "environment_variables": {},
   "exception": true,
   "input_path": "__notebook__.ipynb",
   "output_path": "__notebook__.ipynb",
   "parameters": {},
   "start_time": "2024-05-01T12:20:08.039487",
   "version": "2.5.0"
  }
 },
 "nbformat": 4,
 "nbformat_minor": 5
}
